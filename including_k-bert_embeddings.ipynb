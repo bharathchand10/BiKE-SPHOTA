{
 "cells": [
  {
   "cell_type": "code",
   "execution_count": null,
   "metadata": {},
   "outputs": [],
   "source": [
    "import pandas as pd\n",
    "import numpy as np\n",
    "from sentence_transformers import SentenceTransformer, LoggingHandler\n",
    "import logging\n",
    "from tqdm.notebook import tqdm\n",
    "import re"
   ]
  },
  {
   "cell_type": "code",
   "execution_count": null,
   "metadata": {},
   "outputs": [],
   "source": [
    "path = 'Data/'"
   ]
  },
  {
   "cell_type": "code",
   "execution_count": null,
   "metadata": {},
   "outputs": [],
   "source": [
    "texts_df = pd.read_parquet('{}topics_embeddings.parquet'.format(path))\n",
    "texts_df"
   ]
  },
  {
   "cell_type": "code",
   "execution_count": null,
   "metadata": {},
   "outputs": [],
   "source": [
    "# Setup logging\n",
    "np.set_printoptions(threshold=100)\n",
    "logging.basicConfig(format='%(asctime)s - %(message)s',\n",
    "                    datefmt='%Y-%m-%d %H:%M:%S',\n",
    "                    level=logging.INFO,\n",
    "                    handlers=[LoggingHandler()])\n",
    "\n",
    "# Load Sentence Transformer model\n",
    "model = SentenceTransformer('sentence-transformers/distiluse-base-multilingual-cased-v2')\n",
    "\n",
    "# Read the external embeddings file\n",
    "embeddings_df = pd.read_parquet('embeddings.parquet')\n",
    "\n",
    "# Optional: Ensure embedding column is in correct type\n",
    "embeddings_df['embeddings'] = embeddings_df['embeddings'].apply(lambda x: np.array(x) if isinstance(x, list) else x)\n",
    "\n",
    "# Build a quick lookup for known embeddings\n",
    "embedding_lookup = {row['phrases']: row['embeddings'] for _, row in embeddings_df.iterrows()}\n",
    "\n",
    "# Encode function using known embeddings where possible\n",
    "def model_encode_with_known(model):\n",
    "    embeddings = []\n",
    "    for _, phrases in tqdm(texts_df['phrases_2'].items()):\n",
    "        embedding = np.zeros(512)\n",
    "        for phrase in phrases:\n",
    "            \n",
    "            phrase = re.sub(\"(\\\\d|\\\\W)+\",\" \",phrase)\n",
    "            phrase = phrase.strip()\n",
    "            phrase = phrase.lower()\n",
    "            \n",
    "            if phrase in embedding_lookup:\n",
    "                emb = embedding_lookup[phrase][0]\n",
    "            else:\n",
    "                emb = model.encode(phrase, show_progress_bar=False)\n",
    "            embedding += emb\n",
    "        embeddings.append(embedding)\n",
    "    return embeddings\n",
    "\n",
    "# Apply encoding\n",
    "texts_df['embedding_2'] = model_encode_with_known(model)\n",
    "texts_df"
   ]
  },
  {
   "cell_type": "code",
   "execution_count": null,
   "metadata": {},
   "outputs": [],
   "source": [
    "texts_df.to_parquet('{}topics_embeddings_2.parquet'.format(path))"
   ]
  }
 ],
 "metadata": {
  "interpreter": {
   "hash": "fb93546e6995fdb0878df83f1978a6e198dddb57421150bbcbdd2209f86aef4c"
  },
  "kernelspec": {
   "display_name": "Python 3 (ipykernel)",
   "language": "python",
   "name": "python3"
  },
  "language_info": {
   "codemirror_mode": {
    "name": "ipython",
    "version": 3
   },
   "file_extension": ".py",
   "mimetype": "text/x-python",
   "name": "python",
   "nbconvert_exporter": "python",
   "pygments_lexer": "ipython3",
   "version": "3.8.20"
  }
 },
 "nbformat": 4,
 "nbformat_minor": 4
}
