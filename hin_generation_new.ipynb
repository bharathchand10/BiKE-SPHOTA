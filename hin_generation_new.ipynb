{
 "cells": [
  {
   "cell_type": "code",
   "execution_count": null,
   "metadata": {},
   "outputs": [],
   "source": [
    "import pandas as pd\n",
    "import networkx as nx\n",
    "\n",
    "path = 'Data/'"
   ]
  },
  {
   "cell_type": "code",
   "execution_count": null,
   "metadata": {},
   "outputs": [],
   "source": [
    "import pickle5 as pickle\n",
    "import time"
   ]
  },
  {
   "cell_type": "code",
   "execution_count": null,
   "metadata": {
    "scrolled": true
   },
   "outputs": [],
   "source": [
    "df = pd.read_parquet('{}file-name_query03-05.parquet'.format(path))\n",
    "df"
   ]
  },
  {
   "cell_type": "code",
   "execution_count": null,
   "metadata": {},
   "outputs": [],
   "source": [
    "texts_df = pd.read_parquet('{}topics_embeddings_2.parquet'.format(path))\n",
    "texts_df"
   ]
  },
  {
   "cell_type": "code",
   "execution_count": null,
   "metadata": {},
   "outputs": [],
   "source": [
    "from bertopic import BERTopic\n",
    "\n",
    "topic_model = BERTopic.load('{}topic_model03-05'.format(path))"
   ]
  },
  {
   "cell_type": "code",
   "execution_count": null,
   "metadata": {
    "scrolled": true
   },
   "outputs": [],
   "source": [
    "def make_networkx(df, texts_df, topic_model,\n",
    "                    id_feature='doi', special_attributes={'name': 'smile'}, list_features=[\n",
    "                        'bioActivity', 'molType', 'collectionSpecie', 'collectionSite', 'collectionType', 'molecularMass', 'monoisotropicMass', 'cLogP', 'tpsa', \n",
    "                        'numberOfLipinskiViolations', 'numberOfH_bondAcceptors', 'numberOfH_bondDonors', 'numberOfRotableBonds', 'molecularVolume', 'name'\n",
    "                    ],\n",
    "):\n",
    "    def create_edge(value1, value2, group1, group2, node_from):            \n",
    "        if value1 != '' and value2 != '':\n",
    "            print (value1, value2, group1, group2, node_from)\n",
    "            G.add_edge(value1, value2, edge_group=f'{group1}_{group2}')\n",
    "            G.nodes[value1]['group'] = group1\n",
    "            G.nodes[value2]['group'] = group2\n",
    "            G.nodes[value2]['node_from'] = node_from\n",
    "    \n",
    "    def create_attribute(attribute_feature, feature_value, attribute_value):\n",
    "        if attribute_value != '':\n",
    "            try:\n",
    "                G.nodes[feature_value][attribute_feature] = attribute_value\n",
    "            except:\n",
    "                print('attribute_feature: {}, feature_value: {}, attribute_value: {}'. format(attribute_feature, feature_value, attribute_value))\n",
    "\n",
    "    G = nx.Graph()\n",
    "    for _, row in df.iterrows():\n",
    "        for feature in list_features:\n",
    "            create_edge(row[id_feature], row[feature], id_feature, feature, 'nubbe')\n",
    "            if feature in special_attributes:\n",
    "                create_attribute(special_attributes[feature], row[feature], row[special_attributes[feature]])\n",
    "    for _, row in texts_df.iterrows():\n",
    "        for topic in row['topics']:\n",
    "            create_edge(row[id_feature], topic_model.get_topic_info(topic)['Name'].iloc[0], id_feature, 'topic', 'pdf')\n",
    "        try:\n",
    "            G.nodes[row[id_feature]]['embedding'] = row['embedding']\n",
    "            G.nodes[row[id_feature]]['embedding_2'] = row['embedding_2']\n",
    "            \n",
    "        except:\n",
    "            print('doi {} has no connections'.format(row[id_feature]))\n",
    "\n",
    "    return G\n",
    "\n",
    "G = make_networkx(df, texts_df, topic_model)"
   ]
  },
  {
   "cell_type": "code",
   "execution_count": null,
   "metadata": {},
   "outputs": [],
   "source": [
    "!pip show networkx"
   ]
  },
  {
   "cell_type": "code",
   "execution_count": null,
   "metadata": {},
   "outputs": [],
   "source": [
    "# if networkx is 3.0 version, !pip install networkx==2.8.8 . may be a kernel restart is required"
   ]
  },
  {
   "cell_type": "code",
   "execution_count": null,
   "metadata": {
    "scrolled": true
   },
   "outputs": [],
   "source": [
    "nx.write_gpickle(G, \"{}hin03-05.gpickle\".format(path))"
   ]
  },
  {
   "cell_type": "code",
   "execution_count": null,
   "metadata": {},
   "outputs": [],
   "source": []
  }
 ],
 "metadata": {
  "interpreter": {
   "hash": "fb93546e6995fdb0878df83f1978a6e198dddb57421150bbcbdd2209f86aef4c"
  },
  "kernelspec": {
   "display_name": "Python 3 (ipykernel)",
   "language": "python",
   "name": "python3"
  },
  "language_info": {
   "codemirror_mode": {
    "name": "ipython",
    "version": 3
   },
   "file_extension": ".py",
   "mimetype": "text/x-python",
   "name": "python",
   "nbconvert_exporter": "python",
   "pygments_lexer": "ipython3",
   "version": "3.8.20"
  }
 },
 "nbformat": 4,
 "nbformat_minor": 4
}
